{
 "cells": [
  {
   "cell_type": "code",
   "execution_count": null,
   "id": "initial_id",
   "metadata": {
    "collapsed": true
   },
   "outputs": [],
   "source": [
    "import numpy as np"
   ]
  },
  {
   "cell_type": "markdown",
   "source": [
    "# equations"
   ],
   "metadata": {
    "collapsed": false
   },
   "id": "50ae3b4f3f68612d"
  },
  {
   "cell_type": "code",
   "outputs": [],
   "source": [
    "def f(x):\n",
    "    return x**2 + 10 * x - 12"
   ],
   "metadata": {
    "collapsed": false
   },
   "id": "7e8ccf5b93679ba4",
   "execution_count": null
  },
  {
   "cell_type": "code",
   "outputs": [],
   "source": [
    "def f_prime(x):\n",
    "    return 2 * x + 10"
   ],
   "metadata": {
    "collapsed": false
   },
   "id": "4ebf8e807bdd74",
   "execution_count": null
  },
  {
   "cell_type": "code",
   "outputs": [],
   "source": [
    "def f_prime_prime(x):\n",
    "    return 2"
   ],
   "metadata": {
    "collapsed": false
   },
   "id": "f11d46d65885f124",
   "execution_count": null
  },
  {
   "cell_type": "code",
   "outputs": [],
   "source": [
    "def gradient_descent(x, alpha, max_iter):\n",
    "    x_s = []\n",
    "    y_s = []\n",
    "    for i in range(max_iter):\n",
    "        x_s.append(x)\n",
    "        y_s.append(f(x))\n",
    "        x = x - alpha * f_prime(x)\n",
    "    return x, x_s, y_s"
   ],
   "metadata": {
    "collapsed": false
   },
   "id": "c0760b71f5456a92",
   "execution_count": null
  },
  {
   "cell_type": "code",
   "outputs": [],
   "source": [
    "def newton(x, alpha, max_iter):\n",
    "    x_s = []\n",
    "    y_s = []\n",
    "    for i in range(max_iter):\n",
    "        x_s.append(x)\n",
    "        y_s.append(f(x))\n",
    "        x = x - alpha * f_prime(x) / f_prime_prime(x)\n",
    "    return x, x_s, y_s"
   ],
   "metadata": {
    "collapsed": false
   },
   "id": "b511776f1843fdfe",
   "execution_count": null
  },
  {
   "cell_type": "markdown",
   "source": [
    "# plot function"
   ],
   "metadata": {
    "collapsed": false
   },
   "id": "b7f6fb167016ef77"
  },
  {
   "cell_type": "code",
   "outputs": [],
   "source": [
    "import matplotlib.pyplot as plt\n",
    "x = np.linspace(-15, 5, 100)\n",
    "y = f(x)\n",
    "plt.plot(x, y)"
   ],
   "metadata": {
    "collapsed": false
   },
   "id": "3ea578daf270257",
   "execution_count": null
  },
  {
   "cell_type": "code",
   "outputs": [],
   "source": [
    "x0 = -10"
   ],
   "metadata": {
    "collapsed": false
   },
   "id": "1af25f54cfd8c60b",
   "execution_count": null
  },
  {
   "cell_type": "code",
   "outputs": [],
   "source": [
    "x1, x_s1, y_s1 = gradient_descent(x0, 0.99, 10)\n",
    "x2, x_s2, y_s2 = newton(x0, 0.99, 10)"
   ],
   "metadata": {
    "collapsed": false
   },
   "id": "313e8a804680d7d5",
   "execution_count": null
  },
  {
   "cell_type": "code",
   "outputs": [],
   "source": [
    "x_s1"
   ],
   "metadata": {
    "collapsed": false
   },
   "id": "562e16f64ef2a288",
   "execution_count": null
  },
  {
   "cell_type": "code",
   "outputs": [],
   "source": [
    "x_s2"
   ],
   "metadata": {
    "collapsed": false
   },
   "id": "67f500027fcc92f7",
   "execution_count": null
  },
  {
   "cell_type": "code",
   "outputs": [],
   "source": [
    "plt.plot(x, f(x), 'g')\n",
    "plt.plot(x_s1, y_s1, 'ro')\n",
    "plt.plot(x_s2, y_s2, 'bo')\n",
    "plt.show()"
   ],
   "metadata": {
    "collapsed": false
   },
   "id": "45ba75c2ca81699b",
   "execution_count": null
  },
  {
   "cell_type": "code",
   "outputs": [],
   "source": [],
   "metadata": {
    "collapsed": false
   },
   "id": "a954a486258cb34e"
  }
 ],
 "metadata": {
  "kernelspec": {
   "display_name": "Python 3",
   "language": "python",
   "name": "python3"
  },
  "language_info": {
   "codemirror_mode": {
    "name": "ipython",
    "version": 2
   },
   "file_extension": ".py",
   "mimetype": "text/x-python",
   "name": "python",
   "nbconvert_exporter": "python",
   "pygments_lexer": "ipython2",
   "version": "2.7.6"
  }
 },
 "nbformat": 4,
 "nbformat_minor": 5
}
