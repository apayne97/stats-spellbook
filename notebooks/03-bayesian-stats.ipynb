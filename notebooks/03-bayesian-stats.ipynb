{
 "cells": [
  {
   "cell_type": "code",
   "execution_count": null,
   "id": "initial_id",
   "metadata": {
    "collapsed": true
   },
   "outputs": [],
   "source": [
    "from scipy.stats import beta\n",
    "import numpy as np\n",
    "import pandas as pd"
   ]
  },
  {
   "cell_type": "code",
   "outputs": [],
   "source": [
    "fraction_successes = np.linspace(0.01,0.99,3)"
   ],
   "metadata": {
    "collapsed": false
   },
   "id": "94fb88056c61093a",
   "execution_count": null
  },
  {
   "cell_type": "code",
   "outputs": [],
   "source": [
    "totals = np.linspace(1,205,10)"
   ],
   "metadata": {
    "collapsed": false
   },
   "id": "54ce41c0e69f8825",
   "execution_count": null
  },
  {
   "cell_type": "code",
   "outputs": [],
   "source": [
    "successes = np.multiply.outer(fraction_successes, totals)\n",
    "failures = totals - successes"
   ],
   "metadata": {
    "collapsed": false
   },
   "id": "c9bd61b165108477",
   "execution_count": null
  },
  {
   "cell_type": "code",
   "outputs": [],
   "source": [
    "all_successes = []\n",
    "all_failures = []\n",
    "all_total = []\n",
    "all_fraction_successes = []\n",
    "\n",
    "x = np.linspace(0,1,100)\n",
    "dfs = []\n",
    "for fraction_success in fraction_successes:\n",
    "    for total in totals:\n",
    "        success = fraction_success * total\n",
    "        failure = total - success\n",
    "        dfs.append(pd.DataFrame({'successes': success, 'failures': failure, 'total': total, 'fraction_success': fraction_success, 'x':x, 'y':beta(1+success,1+failure).pdf(x)}))"
   ],
   "metadata": {
    "collapsed": false
   },
   "id": "8151395bd735fe4a",
   "execution_count": null
  },
  {
   "cell_type": "code",
   "outputs": [],
   "source": [
    "df = pd.concat(dfs)"
   ],
   "metadata": {
    "collapsed": false
   },
   "id": "4b7e140814112cef",
   "execution_count": null
  },
  {
   "cell_type": "code",
   "outputs": [],
   "source": [
    "import plotly.express as px"
   ],
   "metadata": {
    "collapsed": false
   },
   "id": "f47c5b1f5fb42001",
   "execution_count": null
  },
  {
   "cell_type": "code",
   "outputs": [],
   "source": [
    "px.line(df, x='x', y='y', height=800, width=1200, symbol='fraction_success', color='total')"
   ],
   "metadata": {
    "collapsed": false
   },
   "id": "65589911192861fd",
   "execution_count": null
  },
  {
   "cell_type": "code",
   "outputs": [],
   "source": [
    "beta80 = beta(1+80,1+20)\n",
    "lower, upper = beta80.interval(0.95)"
   ],
   "metadata": {
    "collapsed": false
   },
   "id": "a897a25762fee44a",
   "execution_count": null
  },
  {
   "cell_type": "code",
   "outputs": [],
   "source": [
    "dfs = []\n",
    "dfs.append(pd.DataFrame({'x':x, 'function':beta80.pdf(x) / beta80.pdf(x).max(), 'type':'pdf'}))\n",
    "dfs.append(pd.DataFrame({'x':x, 'function':beta80.cdf(x), 'type':'cdf'}))\n",
    "df = pd.concat(dfs)"
   ],
   "metadata": {
    "collapsed": false
   },
   "id": "3e9e9e53f083e23",
   "execution_count": null
  },
  {
   "cell_type": "code",
   "outputs": [],
   "source": [
    "fig = px.line(df, x='x', y='function', color='type')\n",
    "fig.add_vline(x=lower, line_dash='dash', line_color='red')\n",
    "fig.add_vline(x=upper, line_dash='dash', line_color='red')\n",
    "fig.show()"
   ],
   "metadata": {
    "collapsed": false
   },
   "id": "af53f8de827dbf9",
   "execution_count": null
  },
  {
   "cell_type": "code",
   "outputs": [],
   "source": [],
   "metadata": {
    "collapsed": false
   },
   "id": "59aad54bf329b543",
   "execution_count": null
  },
  {
   "cell_type": "code",
   "outputs": [],
   "source": [],
   "metadata": {
    "collapsed": false
   },
   "id": "43412157a09f9032",
   "execution_count": null
  }
 ],
 "metadata": {
  "kernelspec": {
   "display_name": "Python 3",
   "language": "python",
   "name": "python3"
  },
  "language_info": {
   "codemirror_mode": {
    "name": "ipython",
    "version": 2
   },
   "file_extension": ".py",
   "mimetype": "text/x-python",
   "name": "python",
   "nbconvert_exporter": "python",
   "pygments_lexer": "ipython2",
   "version": "2.7.6"
  }
 },
 "nbformat": 4,
 "nbformat_minor": 5
}
