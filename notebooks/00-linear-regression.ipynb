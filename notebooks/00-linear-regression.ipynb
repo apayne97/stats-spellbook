{
 "cells": [
  {
   "cell_type": "code",
   "execution_count": null,
   "metadata": {
    "collapsed": true
   },
   "outputs": [],
   "source": []
  },
  {
   "cell_type": "code",
   "outputs": [],
   "source": [],
   "metadata": {
    "collapsed": false
   }
  },
  {
   "cell_type": "markdown",
   "source": [
    "# Correlation and Covariance"
   ],
   "metadata": {
    "collapsed": false
   }
  },
  {
   "cell_type": "code",
   "outputs": [],
   "source": [
    "import numpy as np"
   ],
   "metadata": {
    "collapsed": false
   },
   "execution_count": null
  },
  {
   "cell_type": "code",
   "outputs": [],
   "source": [
    "joint_prob = np.array([[0.2, 0.05], [0.15,0.6]])"
   ],
   "metadata": {
    "collapsed": false
   },
   "execution_count": null
  },
  {
   "cell_type": "code",
   "outputs": [],
   "source": [
    "# Calculate Marginal Probabilities\n",
    "p_x = np.sum(joint_prob, axis=1)\n",
    "p_y = np.sum(joint_prob, axis=0)\n",
    "\n",
    "# Calculate Expected Values\n",
    "x_values = np.array([0, 1])\n",
    "y_values = np.array([0, 1])\n",
    "\n",
    "E_x = np.sum(x_values * p_x)\n",
    "E_y = np.sum(y_values * p_y)\n",
    "\n",
    "# Calculate E(XY)\n",
    "E_xy = np.sum(np.outer(x_values, y_values) * joint_prob)\n",
    "\n",
    "# Calculate Covariance\n",
    "covariance = E_xy - (E_x * E_y)\n",
    "var_x = np.sum(x_values**2 * p_x) - E_x**2\n",
    "var_y = np.sum(y_values**2 * p_y) - E_y**2\n",
    "\n",
    "print(f\"Marginal Probabilities (X): {p_x}\")\n",
    "print(f\"Marginal Probabilities (Y): {p_y}\")\n",
    "print(f\"Expected Value (X): {E_x}\")\n",
    "print(f\"Expected Value (Y): {E_y}\")\n",
    "print(f\"Covariance: {covariance}\")\n",
    "print(f\"Variance (X): {var_x}\")\n",
    "print(f\"Variance (Y): {var_y}\")"
   ],
   "metadata": {
    "collapsed": false
   },
   "execution_count": null
  },
  {
   "cell_type": "code",
   "outputs": [],
   "source": [
    "np.cov(joint_prob)"
   ],
   "metadata": {
    "collapsed": false
   },
   "execution_count": null
  },
  {
   "cell_type": "code",
   "outputs": [],
   "source": [],
   "metadata": {
    "collapsed": false
   }
  }
 ],
 "metadata": {
  "kernelspec": {
   "display_name": "Python 3",
   "language": "python",
   "name": "python3"
  },
  "language_info": {
   "codemirror_mode": {
    "name": "ipython",
    "version": 2
   },
   "file_extension": ".py",
   "mimetype": "text/x-python",
   "name": "python",
   "nbconvert_exporter": "python",
   "pygments_lexer": "ipython2",
   "version": "2.7.6"
  }
 },
 "nbformat": 4,
 "nbformat_minor": 0
}
