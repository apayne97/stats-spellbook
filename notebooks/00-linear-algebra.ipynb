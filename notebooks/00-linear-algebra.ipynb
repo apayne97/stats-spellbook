{
 "cells": [
  {
   "cell_type": "code",
   "execution_count": null,
   "id": "initial_id",
   "metadata": {
    "collapsed": true
   },
   "outputs": [],
   "source": [
    "import numpy as np"
   ]
  },
  {
   "cell_type": "markdown",
   "source": [
    "# Multiplying Vectors"
   ],
   "metadata": {
    "collapsed": false
   },
   "id": "1fb655fb38a55aff"
  },
  {
   "cell_type": "code",
   "outputs": [],
   "source": [
    "a = np.array([1, 2, 3])\n",
    "b = np.array([4, 5, 6])"
   ],
   "metadata": {
    "collapsed": false
   },
   "id": "dca562b106a04822",
   "execution_count": null
  },
  {
   "cell_type": "code",
   "outputs": [],
   "source": [
    "print(np.cross(a, b))"
   ],
   "metadata": {
    "collapsed": false
   },
   "id": "7f580b661d17036d",
   "execution_count": null
  },
  {
   "cell_type": "code",
   "outputs": [],
   "source": [
    "print(np.dot(a, b))"
   ],
   "metadata": {
    "collapsed": false
   },
   "id": "93fd16e9a43c88c8",
   "execution_count": null
  },
  {
   "cell_type": "code",
   "outputs": [],
   "source": [
    "a*b"
   ],
   "metadata": {
    "collapsed": false
   },
   "id": "410a5426ed119f78",
   "execution_count": null
  },
  {
   "cell_type": "code",
   "outputs": [],
   "source": [
    "a|b"
   ],
   "metadata": {
    "collapsed": false
   },
   "id": "aecacaec2b4f90eb",
   "execution_count": null
  },
  {
   "cell_type": "code",
   "outputs": [],
   "source": [
    "np.dot(a,b)"
   ],
   "metadata": {
    "collapsed": false
   },
   "id": "d50c7b73d0d0db4a",
   "execution_count": null
  },
  {
   "cell_type": "code",
   "outputs": [],
   "source": [
    "a"
   ],
   "metadata": {
    "collapsed": false
   },
   "id": "20392f7f35593c3a",
   "execution_count": null
  },
  {
   "cell_type": "code",
   "outputs": [],
   "source": [
    "b"
   ],
   "metadata": {
    "collapsed": false
   },
   "id": "6e422672d70da452",
   "execution_count": null
  },
  {
   "cell_type": "code",
   "outputs": [],
   "source": [
    "weights = np.array([[0.1, 0.2]])\n",
    "data = np.array([[1,3,4,5],[2,6,7,8]])"
   ],
   "metadata": {
    "collapsed": false
   },
   "id": "9960f468a333d124",
   "execution_count": null
  },
  {
   "cell_type": "code",
   "outputs": [],
   "source": [
    "np.dot(data, weights)"
   ],
   "metadata": {
    "collapsed": false
   },
   "id": "8ddd0f20a03bca99",
   "execution_count": null
  },
  {
   "cell_type": "code",
   "outputs": [],
   "source": [
    "np.dot(weights, data)"
   ],
   "metadata": {
    "collapsed": false
   },
   "id": "eabae76ae894203d",
   "execution_count": null
  },
  {
   "cell_type": "code",
   "outputs": [],
   "source": [
    "np.dot(data.T, weights.T)"
   ],
   "metadata": {
    "collapsed": false
   },
   "id": "2ab5bd8fd55eecc5",
   "execution_count": null
  },
  {
   "cell_type": "code",
   "outputs": [],
   "source": [
    "np.matmul(weights, data)"
   ],
   "metadata": {
    "collapsed": false
   },
   "id": "a485d6217b49158b",
   "execution_count": null
  },
  {
   "cell_type": "code",
   "outputs": [],
   "source": [],
   "metadata": {
    "collapsed": false
   },
   "id": "9ae747a6750f81"
  }
 ],
 "metadata": {
  "kernelspec": {
   "display_name": "Python 3",
   "language": "python",
   "name": "python3"
  },
  "language_info": {
   "codemirror_mode": {
    "name": "ipython",
    "version": 2
   },
   "file_extension": ".py",
   "mimetype": "text/x-python",
   "name": "python",
   "nbconvert_exporter": "python",
   "pygments_lexer": "ipython2",
   "version": "2.7.6"
  }
 },
 "nbformat": 4,
 "nbformat_minor": 5
}
