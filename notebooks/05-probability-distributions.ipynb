{
 "cells": [
  {
   "cell_type": "markdown",
   "source": [
    "# Discrete Distributions"
   ],
   "metadata": {
    "collapsed": false
   },
   "id": "38cd19a7d4bcf842"
  },
  {
   "cell_type": "markdown",
   "source": [
    "## Binomial Distribution"
   ],
   "metadata": {
    "collapsed": false
   },
   "id": "79854b34518f83f1"
  },
  {
   "cell_type": "code",
   "outputs": [],
   "source": [
    "from scipy.stats import binom\n",
    "import numpy as np\n",
    "import matplotlib.pyplot as plt"
   ],
   "metadata": {
    "collapsed": false
   },
   "id": "e9d65f524af54d61",
   "execution_count": null
  },
  {
   "cell_type": "code",
   "outputs": [],
   "source": [
    "def plot_binomial_distribution(n, p):\n",
    "    \"\"\"Plots the binomial distribution for given n and p.\"\"\"\n",
    "\n",
    "    x = np.arange(0, n + 1)\n",
    "    y = binom.pmf(x, n, p)\n",
    "\n",
    "    plt.bar(x, y)\n",
    "    plt.title(f\"Binomial Distribution (n={n}, p={p})\")\n",
    "    plt.xlabel(\"Number of Successes\")\n",
    "    plt.ylabel(\"Probability\")\n",
    "    plt.show()"
   ],
   "metadata": {
    "collapsed": false
   },
   "id": "32d101ad7c4cb76f",
   "execution_count": null
  },
  {
   "cell_type": "code",
   "outputs": [],
   "source": [
    "plot_binomial_distribution(10, 0.5)"
   ],
   "metadata": {
    "collapsed": false
   },
   "id": "6fbff16734adb60f",
   "execution_count": null
  },
  {
   "cell_type": "code",
   "outputs": [],
   "source": [],
   "metadata": {
    "collapsed": false
   },
   "id": "dbe2d63496cadea9"
  }
 ],
 "metadata": {
  "kernelspec": {
   "display_name": "Python 3",
   "language": "python",
   "name": "python3"
  },
  "language_info": {
   "codemirror_mode": {
    "name": "ipython",
    "version": 2
   },
   "file_extension": ".py",
   "mimetype": "text/x-python",
   "name": "python",
   "nbconvert_exporter": "python",
   "pygments_lexer": "ipython2",
   "version": "2.7.6"
  }
 },
 "nbformat": 4,
 "nbformat_minor": 5
}
